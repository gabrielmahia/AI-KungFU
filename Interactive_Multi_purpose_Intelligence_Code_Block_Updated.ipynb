{
  "nbformat": 4,
  "nbformat_minor": 0,
  "metadata": {
    "colab": {
      "provenance": [],
      "authorship_tag": "ABX9TyMs1mvD8/HthM/pIw5nfLqF",
      "include_colab_link": true
    },
    "kernelspec": {
      "name": "python3",
      "display_name": "Python 3"
    },
    "language_info": {
      "name": "python"
    }
  },
  "cells": [
    {
      "cell_type": "markdown",
      "metadata": {
        "id": "view-in-github",
        "colab_type": "text"
      },
      "source": [
        "<a href=\"https://colab.research.google.com/github/gabrielmahia/AI-KungFU/blob/master/Interactive_Multi_purpose_Intelligence_Code_Block_Updated.ipynb\" target=\"_parent\"><img src=\"https://colab.research.google.com/assets/colab-badge.svg\" alt=\"Open In Colab\"/></a>"
      ]
    },
    {
      "cell_type": "code",
      "execution_count": null,
      "metadata": {
        "colab": {
          "base_uri": "https://localhost:8080/"
        },
        "id": "6piwWcIp1fPj",
        "outputId": "95465d13-49bf-4c2a-818d-5863a8d06f8b"
      },
      "outputs": [
        {
          "output_type": "stream",
          "name": "stdout",
          "text": [
            "Please choose one of the following options:\n",
            "1. Display a satellite image\n",
            "2. Analyze social media sentiment\n",
            "3. Satellite image change detection\n"
          ]
        }
      ],
      "source": [
        "import os\n",
        "import json\n",
        "import tweepy\n",
        "from datetime import datetime\n",
        "from rasterio import features\n",
        "import geopandas as gpd\n",
        "from shapely.geometry import shape\n",
        "from transformers import pipeline\n",
        "from sentinelhub import SHConfig, FisRequest, DataCollection\n",
        "import matplotlib.pyplot as plt\n",
        "\n",
        "# SentinelHub configuration\n",
        "config = SHConfig()\n",
        "config.sh_client_id = 'your_sentinelhub_client_id'\n",
        "config.sh_client_secret = 'your_sentinelhub_client_secret'\n",
        "\n",
        "def display_satellite_image(bbox, date):\n",
        "    fis_request = FisRequest(\n",
        "        data_collection=DataCollection.SENTINEL2_L2A,\n",
        "        layer='TRUE_COLOR',\n",
        "        bbox=bbox,\n",
        "        time=date,\n",
        "        resolution='60m',\n",
        "        config=config\n",
        "    )\n",
        "    fis_data = fis_request.get_data(save_data=True)\n",
        "    plt.imshow(fis_data[0])\n",
        "    plt.show()\n",
        "\n",
        "def analyze_social_media_sentiment(query, geocode):\n",
        "    api_key = os.environ['TWITTER_API_KEY']\n",
        "    api_secret_key = os.environ['TWITTER_API_SECRET_KEY']\n",
        "    access_token = os.environ['TWITTER_ACCESS_TOKEN']\n",
        "    access_token_secret = os.environ['TWITTER_ACCESS_TOKEN_SECRET']\n",
        "    \n",
        "    auth = tweepy.OAuthHandler(api_key, api_secret_key)\n",
        "    auth.set_access_token(access_token, access_token_secret)\n",
        "    api = tweepy.API(auth)\n",
        "    \n",
        "    nlp_pipeline = pipeline('sentiment-analysis')\n",
        "    tweets = api.search(q=query, geocode=geocode, count=100, lang=\"en\", since_id=datetime.now().strftime(\"%Y-%m-%d\"))\n",
        "    \n",
        "    positive = 0\n",
        "    negative = 0\n",
        "    for tweet in tweets:\n",
        "        sentiment = nlp_pipeline(tweet.text)\n",
        "        if sentiment[0]['label'] == 'POSITIVE':\n",
        "            positive += 1\n",
        "        else:\n",
        "            negative += 1\n",
        "    \n",
        "    print(f\"Social media sentiment: {positive / (positive + negative) * 100:.2f}% positive\")\n",
        "\n",
        "def satellite_image_change_detection(old_image_path, new_image_path):\n",
        "    with rasterio.open(old_image_path) as old_src:\n",
        "        old_image = old_src.read(1)\n",
        "    \n",
        "    with rasterio.open(new_image_path) as new_src:\n",
        "        new_image = new_src.read(1)\n",
        "    \n",
        "    diff_image = new_image - old_image\n",
        "    plt.imshow(diff_image, cmap='coolwarm')\n",
        "    plt.colorbar()\n",
        "    plt.title(\"Change Detection\")\n",
        "    plt.show()\n",
        "\n",
        "def main():\n",
        "    print(\"Please choose one of the following options:\")\n",
        "    print(\"1. Display a satellite image\")\n",
        "    print(\"2. Analyze social media sentiment\")\n",
        "    print(\"3. Satellite image change detection\")\n",
        "    \n",
        "    option = int(input(\"Enter your option: \"))\n",
        "    if option == 1:\n",
        "        bbox = '47.5,19.5,48.5,20.5'  # Example bounding box (lat_min, lon_min, lat_max, lon_max)\n",
        "        date = '2021-01-01'\n",
        "        display_satellite_image(bbox, date)\n",
        "    elif option == 2:\n",
        "        query = \"conflict\"\n",
        "        geocode = \"40.712776,-74.005974,50km\"  # Example geocode (latitude, longitude, radius)\n",
        "        analyze_social_media_sentiment(query, geocode)\n",
        "    elif option == 3:\n",
        "        old_image_path = 'path/to/old_image.tif'\n",
        "        new_image_path = 'path/to/new_image.tif'\n",
        "        satellite_image_change_detection(old_image_path, new_image_path)\n",
        "    else:\n",
        "        print(\"Invalid option. Please try again.\")\n",
        "\n",
        "if __name__ == \"__main__\":\n",
        "    main()\n",
        "\n",
        "\n"
      ]
    }
  ]
}